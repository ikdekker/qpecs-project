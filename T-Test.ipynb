{
 "cells": [
  {
   "cell_type": "code",
   "execution_count": 1,
   "metadata": {},
   "outputs": [],
   "source": [
    "import pandas as pd\n",
    "from sklearn import preprocessing, tree\n",
    "import statistics\n",
    "import random\n",
    "import matplotlib.pyplot as plt\n",
    "import numpy as np\n",
    "import pandas as pd\n",
    "import seaborn as sns\n",
    "import warnings\n",
    "from pylab import rcParams\n",
    "from scipy.stats import f_oneway\n",
    "from scipy.stats import ttest_ind"
   ]
  },
  {
   "cell_type": "code",
   "execution_count": 9,
   "metadata": {},
   "outputs": [],
   "source": [
    "def plot_distribution(arr):\n",
    "    inp = np.array(arr)\n",
    "    plt.figure()\n",
    "    ax = sns.distplot(inp)\n",
    "    plt.axvline(np.mean(inp), color=\"k\", linestyle=\"dashed\", linewidth=5)\n",
    "    _, max_ = plt.ylim()\n",
    "    plt.text(\n",
    "        inp.mean() + inp.mean() / 10,\n",
    "        max_ - max_ / 10,\n",
    "        \"Mean: {:.2f}\".format(inp.mean()),\n",
    "    )\n",
    "    return plt.figure\n"
   ]
  },
  {
   "cell_type": "code",
   "execution_count": 10,
   "metadata": {},
   "outputs": [],
   "source": [
    "def recommend(df, model_selected, pref=''):\n",
    "    if pref == \"acc\":\n",
    "        df = df.sort_values(by=['accuracy'], ascending=False)\n",
    "    elif pref == \"resp\":\n",
    "        df = df.sort_values(by=['responsetime'], ascending=False)\n",
    "    else:\n",
    "        df = df.sort_values(\n",
    "                by=['accuracy', 'responsetime'], ascending=(False, False)\n",
    "                )\n",
    "\n",
    "    row = df[df.model == model_selected].iloc[0] # The best we found for this model\n",
    "\n",
    "    # Get array of system-, and hyper-parameters that gives the\n",
    "    # best performance. In other words, recommend this to the user\n",
    "    model = row.values[0]\n",
    "    cores = row.values[1]\n",
    "    ram = row.values[2]\n",
    "    batch_size = row.values[3]\n",
    "    learning_rate = row.values[4]\n",
    "    learning_rate_decay = row.values[5]\n",
    "\n",
    "    # print(\n",
    "    #     'Better: {}-model {}-Cores {}-GBRAM {}-batchSize {}-learningRate {}-learningRateDecay'\n",
    "    #     .format(\n",
    "    #         model, cores, ram, batch_size, learning_rate, learning_rate_decay\n",
    "    #     )\n",
    "    # )\n",
    "    # print(row)\n",
    "\n",
    "    # return cores, ram, batch_size, learning_rate, learning_rate_decay, model\n",
    "\n",
    "    #return responsetime and accuracy\n",
    "    return row.values[8], row.values[7]\n"
   ]
  },
  {
   "cell_type": "code",
   "execution_count": 39,
   "metadata": {},
   "outputs": [],
   "source": [
    "\n",
    "def run_with_random(df, size):\n",
    "    orig_resp = []\n",
    "    orig_acc = []\n",
    "    rec_resp = []\n",
    "    rec_acc = []\n",
    "    counter = 0\n",
    "    # while counter < size\n",
    "    for i in range(size):\n",
    "        rand = random.randrange(0, 192)\n",
    "        ############################\n",
    "        # Simulate a job coming in #\n",
    "        ############################\n",
    "        request = {\n",
    "                'model': [df.iloc[[rand][0]][0]],\n",
    "                'Cores': [int(df.iloc[[rand][0]][1])],  # 1 or 4\n",
    "                'GBRAM': [int(df.iloc[[rand][0]][2])],  # 1 or 8\n",
    "                'batchSize': [int(df.iloc[[rand][0]][3])],  # 64 or 512\n",
    "                'learningRate': [float(df.iloc[[rand][0]][4])],  # 0.1 or 0.001\n",
    "                'learningRateDecay': [float(df.iloc[[rand][0]][5])],  # 0.001 or 0.0001\n",
    "                'status': ['slow']  # This is not needed but for removing the error\n",
    "                }\n",
    "        job = pd.DataFrame.from_dict(request)\n",
    "\n",
    "        df_train = df\n",
    "        df_train = df_train.append(job, sort=False)\n",
    "\n",
    "        df_train = df_train.apply(preprocessing.LabelEncoder().fit_transform)\n",
    "        df_train = df_train[\n",
    "            [\n",
    "                'model', 'Cores', 'GBRAM', 'batchSize', 'learningRate', \n",
    "                'learningRateDecay', 'accuracy', 'responsetime', 'status'\n",
    "            ]\n",
    "        ]\n",
    "        df_train = df_train[:-1] # Since the incoming job is now encoded, we can remove it\n",
    "\n",
    "        train_x = df_train.iloc[:,0:6] # features (ignore accuracy and responsetime)\n",
    "        train_y = df_train.iloc[:,8]  # target_dict(request)\n",
    "\n",
    "        # # Train a DT model on the original features\n",
    "        dt = tree.DecisionTreeClassifier(max_depth=5).fit(train_x, train_y)\n",
    "\n",
    "        # Compute the predicted labels on test data\n",
    "        predicted_output = dt.predict(train_x.iloc[[-1], [0, 1, 2, 3, 4, 5]])[0]\n",
    "\n",
    "        if predicted_output: # 1, means it's slow and needs fixing\n",
    "            orig_acc.append(float(df.iloc[[1][0]][7]))\n",
    "            orig_resp.append(float(df.iloc[[1][0]][8]))\n",
    "            resp, acc = recommend(df, request['model'][0], \"acc\")\n",
    "            rec_resp.append(float(resp))\n",
    "            rec_acc.append(float(acc))\n",
    "        else: # Already good, not need to fix it\n",
    "            pass\n",
    "\n",
    "    plot_distribution(rec_acc)\n",
    "    plot_distribution(rec_resp)\n",
    "    stat, p = ttest_ind(orig_resp, rec_resp)\n",
    "    print(\"t-test resp.\",stat, p)\n",
    "    stat, p = ttest_ind(orig_acc, rec_acc)\n",
    "    print(\"t-test acc.\",stat, p)\n",
    "    print(\"avg responsetime orig\", statistics.mean(orig_resp))\n",
    "    print(\"avg responsetime rec.\", statistics.mean(rec_resp))\n",
    "    print(\"avg accuracy orig.\", statistics.mean(orig_acc))\n",
    "    print(\"avg accuracy rec..\", statistics.mean(rec_acc))\n"
   ]
  },
  {
   "cell_type": "code",
   "execution_count": 40,
   "metadata": {},
   "outputs": [
    {
     "name": "stdout",
     "output_type": "stream",
     "text": [
      "t-test resp. 20.438362169703975 4.654885854085604e-33\n",
      "t-test acc. -8.981539782520686 1.1718996832512528e-13\n",
      "avg responsetime orig 64.131226\n",
      "avg responsetime rec. 60.90088085\n",
      "avg accuracy orig. 0.4264\n",
      "avg accuracy rec.. 0.7352974999999999\n"
     ]
    },
    {
     "name": "stderr",
     "output_type": "stream",
     "text": [
      "/usr/lib/python3.8/site-packages/seaborn/distributions.py:2551: FutureWarning: `distplot` is a deprecated function and will be removed in a future version. Please adapt your code to use either `displot` (a figure-level function with similar flexibility) or `histplot` (an axes-level function for histograms).\n",
      "  warnings.warn(msg, FutureWarning)\n",
      "/usr/lib/python3.8/site-packages/seaborn/distributions.py:2551: FutureWarning: `distplot` is a deprecated function and will be removed in a future version. Please adapt your code to use either `displot` (a figure-level function with similar flexibility) or `histplot` (an axes-level function for histograms).\n",
      "  warnings.warn(msg, FutureWarning)\n"
     ]
    },
    {
     "data": {
      "image/png": "[encoded data removed]",
      "text/plain": [
       "<Figure size 432x288 with 1 Axes>"
      ]
     },
     "metadata": {
      "needs_background": "light"
     },
     "output_type": "display_data"
    },
    {
     "data": {
      "image/png": "[encoded data removed]",
      "text/plain": [
       "<Figure size 432x288 with 1 Axes>"
      ]
     },
     "metadata": {
      "needs_background": "light"
     },
     "output_type": "display_data"
    }
   ],
   "source": [
    "##################################################################################\n",
    "# load the dataset, append incoming job, train and classify if job can be better #\n",
    "##################################################################################\n",
    "df = pd.read_csv(\"data_m.csv\")\n",
    "\n",
    "# run_rec_all_data(df)\n",
    "run_with_random(df, 40)\n"
   ]
  },
  {
   "cell_type": "code",
   "execution_count": null,
   "metadata": {},
   "outputs": [],
   "source": []
  },
  {
   "cell_type": "code",
   "execution_count": null,
   "metadata": {},
   "outputs": [],
   "source": []
  },
  {
   "cell_type": "code",
   "execution_count": null,
   "metadata": {},
   "outputs": [],
   "source": []
  },
  {
   "cell_type": "code",
   "execution_count": null,
   "metadata": {},
   "outputs": [],
   "source": []
  },
  {
   "cell_type": "code",
   "execution_count": null,
   "metadata": {},
   "outputs": [],
   "source": [
    "def run_rec_all_data(df):\n",
    "    orig_resp = []\n",
    "    orig_acc = []\n",
    "    rec_resp = []\n",
    "    rec_acc = []\n",
    "    for index, row in df.iterrows():\n",
    "        ############################\n",
    "        # Simulate a job coming in #\n",
    "        ############################\n",
    "        request = {\n",
    "                'model': [row[0]],\n",
    "                'Cores': [int(row[1])],  # 1 or 4\n",
    "                'GBRAM': [int(row[2])],  # 1 or 8\n",
    "                'batchSize': [int(row[3])],  # 64 or 512\n",
    "                'learningRate': [float(row[4])],  # 0.1 or 0.001\n",
    "                'learningRateDecay': [float(row[5])],  # 0.001 or 0.0001\n",
    "                'status': ['slow']  # This is not needed but for removing the error\n",
    "                }\n",
    "        job = pd.DataFrame.from_dict(request)\n",
    "\n",
    "        df_train = df\n",
    "        df_train = df_train.append(job, sort=False)\n",
    "\n",
    "        df_train = df_train.apply(preprocessing.LabelEncoder().fit_transform)\n",
    "        df_train = df_train[\n",
    "            [\n",
    "                'model', 'Cores', 'GBRAM', 'batchSize', 'learningRate', \n",
    "                'learningRateDecay', 'accuracy', 'responsetime', 'status'\n",
    "            ]\n",
    "        ]\n",
    "        df_train = df_train[:-1] # Since the incoming job is now encoded, we can remove it\n",
    "\n",
    "        train_x = df_train.iloc[:,0:6] # features (ignore accuracy and responsetime)\n",
    "        train_y = df_train.iloc[:,8]  # target_dict(request)\n",
    "\n",
    "        # # Train a DT model on the original features\n",
    "        dt = tree.DecisionTreeClassifier(max_depth=5).fit(train_x, train_y)\n",
    "\n",
    "        # Compute the predicted labels on test data\n",
    "        predicted_output = dt.predict(train_x.iloc[[-1], [0, 1, 2, 3, 4, 5]])[0]\n",
    "\n",
    "        if predicted_output: # 1, means it's slow and needs fixing\n",
    "            orig_acc.append(float(row[7]))\n",
    "            orig_resp.append(float(row[8]))\n",
    "            resp, acc = recommend(df, request['model'][0])\n",
    "            rec_resp.append(float(resp))\n",
    "            rec_acc.append(float(acc))\n",
    "        else: # Already good, not need to fix it\n",
    "            pass\n",
    "\n",
    "    print(\"avg responsetime orig\", statistics.mean(orig_resp))\n",
    "    print(\"avg responsetime rec.\", statistics.mean(rec_resp))\n",
    "    print(\"avg accuracy orig.\", statistics.mean(orig_acc))\n",
    "    print(\"avg accuracy rec..\", statistics.mean(rec_acc))\n",
    "\n"
   ]
  }
 ],
 "metadata": {
  "kernelspec": {
   "display_name": "Python 3",
   "language": "python",
   "name": "python3"
  },
  "language_info": {
   "codemirror_mode": {
    "name": "ipython",
    "version": 3
   },
   "file_extension": ".py",
   "mimetype": "text/x-python",
   "name": "python",
   "nbconvert_exporter": "python",
   "pygments_lexer": "ipython3",
   "version": "3.8.6"
  }
 },
 "nbformat": 4,
 "nbformat_minor": 4
}
